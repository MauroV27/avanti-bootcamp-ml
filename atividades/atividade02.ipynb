{
 "cells": [
  {
   "cell_type": "markdown",
   "id": "8340aade-2835-4ca8-8e54-757438416b17",
   "metadata": {},
   "source": [
    "### 1. Escreva uma função que receba uma lista de números e retorne outra lista com os números ímpares."
   ]
  },
  {
   "cell_type": "code",
   "execution_count": 4,
   "id": "07eb527f-1384-47ec-a749-0161df4f5575",
   "metadata": {},
   "outputs": [
    {
     "name": "stdout",
     "output_type": "stream",
     "text": [
      "Lista de números (input):  [1, 2, 3, 4, 5, 6, 7, 8, 9, 0]\n",
      "Lista de números inpares:  [1, 3, 5, 7, 9]\n"
     ]
    }
   ],
   "source": [
    "input_list_nums = [1, 2, 3, 4, 5, 6, 7, 8, 9, 0]\n",
    "\n",
    "def get_odd_nums(nums:list) -> list:\n",
    "    out_list : list = []\n",
    "    \n",
    "    for num in nums: \n",
    "        if num % 2 == 1:\n",
    "            out_list.append(num)\n",
    "\n",
    "    return out_list\n",
    "\n",
    "print(\"Lista de números (input): \", input_list_nums)\n",
    "print(\"Lista de números inpares: \", get_odd_nums(input_list_nums))"
   ]
  },
  {
   "cell_type": "markdown",
   "id": "524824b5-4294-456d-be2b-bf0048b29101",
   "metadata": {},
   "source": [
    "### 2. Escreva uma função que receba uma lista de números e retorne outra lista com os números primos presentes."
   ]
  },
  {
   "cell_type": "code",
   "execution_count": 6,
   "id": "173d484a-5573-4322-825c-4eff4e4599fc",
   "metadata": {},
   "outputs": [
    {
     "name": "stdout",
     "output_type": "stream",
     "text": [
      "Lista de números (input):  [1, 2, 3, 4, 5, 6, 7, 8, 9, 0, 11, 12, 13]\n",
      "Lista de números primos:  [2, 3, 5, 7, 11, 13]\n"
     ]
    }
   ],
   "source": [
    "input_list = [1, 2, 3, 4, 5, 6, 7, 8, 9, 0, 11, 12, 13]\n",
    "\n",
    "def get_primes(nums:list) -> list:\n",
    "    out_list : list = []\n",
    "    \n",
    "    for num in nums: \n",
    "        is_prime = True\n",
    "        i = 2 # 1 não é primo\n",
    "        \n",
    "        while i < num:\n",
    "            is_prime = not ( num % i == 0 )\n",
    "            i += 1\n",
    "    \n",
    "            if is_prime == False:\n",
    "                break\n",
    "    \n",
    "        if is_prime and num > 1:\n",
    "            out_list.append(num)\n",
    "\n",
    "    return out_list\n",
    "\n",
    "print(\"Lista de números (input): \", input_list)\n",
    "print(\"Lista de números primos: \", get_primes(input_list))"
   ]
  },
  {
   "cell_type": "markdown",
   "id": "bc724470-689f-4524-89f7-3da5ee20d55d",
   "metadata": {},
   "source": [
    "### 3. Escreva uma função que receba duas listas e retorne outra lista com os elementos que estão presentes em apenas uma das listas"
   ]
  },
  {
   "cell_type": "code",
   "execution_count": 8,
   "id": "98874485-73ea-45c0-90fc-3b78b4d6aeff",
   "metadata": {},
   "outputs": [
    {
     "name": "stdout",
     "output_type": "stream",
     "text": [
      "\n",
      "Entradas : \n",
      "    > Lista A: [1, 2, 3, 4] \n",
      "    > Lista B: [2, 4, 6, 8]\n",
      "\n",
      "Lista de números únicos de cada lista:  [1, 3, 6, 8]\n"
     ]
    }
   ],
   "source": [
    "input_list_A = [1, 2, 3, 4]\n",
    "input_list_B = [2, 4, 6, 8]\n",
    "\n",
    "def get_unic_values(lA:list, lB:list) -> list:\n",
    "    # Transoforma as 2 listas de entrada em conjuntos (\"sets') e usa o método interno symmetric_difference para pegar União - Interseção.\n",
    "    # Depois transforma o set em uma lista com os valores semelhantes\n",
    "    return list( set(lA).symmetric_difference( set(lB) ) )\n",
    "\n",
    "print(f\"\"\"\n",
    "Entradas : \n",
    "    > Lista A: {input_list_A} \n",
    "    > Lista B: {input_list_B}\n",
    "\"\"\")\n",
    "\n",
    "print(\"Lista de números únicos de cada lista: \", get_unic_values(input_list_A, input_list_B))"
   ]
  },
  {
   "cell_type": "markdown",
   "id": "c708d8b3-3e5c-4051-b3b1-cc8e7cdce16d",
   "metadata": {},
   "source": [
    "### 4. Dada uma lista de números inteiros, escreva uma função para encontrar o segundo maior valor na lista.\n"
   ]
  },
  {
   "cell_type": "code",
   "execution_count": 10,
   "id": "8cd45caf-68fe-498e-97ae-9f038b7185a3",
   "metadata": {},
   "outputs": [
    {
     "name": "stdout",
     "output_type": "stream",
     "text": [
      "Lista de números (input):  [10, 32, 45, 9, 12, 18, 33]\n",
      "Segundo maior valor da lista :  33\n"
     ]
    }
   ],
   "source": [
    "input_list_ints = [10, 32, 45, 9, 12, 18, 33]\n",
    "\n",
    "def get_N_biggest_value(values:list, index:int):\n",
    "    return sorted(values, reverse=True)[index]\n",
    "\n",
    "print(\"Lista de números (input): \", input_list_ints)\n",
    "print(\"Segundo maior valor da lista : \", get_N_biggest_value(input_list_ints, 1) ) # Index 1 é o segundo valor na lista"
   ]
  },
  {
   "cell_type": "markdown",
   "id": "7e647896-ef96-45e0-879a-aa197b556e82",
   "metadata": {},
   "source": [
    "### 5. Crie uma função que receba uma lista de tuplas, cada uma contendo o nome e a idade de uma pessoa, e retorne a lista ordenada pelo nome das pessoas em ordem alfabética."
   ]
  },
  {
   "cell_type": "code",
   "execution_count": 11,
   "id": "81580483-1f3d-426c-8401-e1367683d2b9",
   "metadata": {},
   "outputs": [
    {
     "name": "stdout",
     "output_type": "stream",
     "text": [
      "Lista de usuários (input):  [('Bruno', 19), ('Ana', 20), ('Eloisa', 21), ('Carla', 23), ('Daniel', 22)]\n",
      "Lista de nomes ordenada:  [('Ana', 20), ('Bruno', 19), ('Carla', 23), ('Daniel', 22), ('Eloisa', 21)]\n"
     ]
    }
   ],
   "source": [
    "input_list_users = [ (\"Bruno\", 19), (\"Ana\", 20), (\"Eloisa\", 21), (\"Carla\", 23), (\"Daniel\", 22)  ]\n",
    "\n",
    "def sort_by_name( users:list ) -> list:\n",
    "    return sorted(users, key=lambda x: x[0])\n",
    "\n",
    "print(\"Lista de usuários (input): \", input_list_users)\n",
    "print(\"Lista de nomes ordenada: \", sort_by_name(input_list_users))\n"
   ]
  },
  {
   "cell_type": "markdown",
   "id": "aba6e7dd-67d4-4a8d-bf9b-5150a3547c69",
   "metadata": {},
   "source": [
    "### 6. Observe os espaços sublinhados e complete o código.\n",
    "\n",
    "```python\n",
    "import __________.pyplot as plt\n",
    "import numpy as ___\n",
    "fig, axs = plt.subplots(ncols=2, nrows=2, figsize=(5.5, 3.5), layout=\"constrained\")\n",
    "\n",
    "for ___ in range(2):\n",
    "    for ___ in range(2):\n",
    "        axs[row, col].annotate(f'axs[{row}, {col}]', (0.5, 0.5),\n",
    "            transform=axs[row, col].transAxes,\n",
    "            ha='center', va='center', ________=18,\n",
    "            color='darkgrey')\n",
    "        \n",
    "fig.suptitle('__.subplots()') \n",
    "```"
   ]
  },
  {
   "cell_type": "code",
   "execution_count": 12,
   "id": "86c9ba38-9b7c-4de3-8691-01e9e677ae30",
   "metadata": {},
   "outputs": [
    {
     "data": {
      "text/plain": [
       "Text(0.5, 0.98, 'np.subplots()')"
      ]
     },
     "execution_count": 12,
     "metadata": {},
     "output_type": "execute_result"
    },
    {
     "data": {
      "image/png": "[encoded data removed]",
      "text/plain": [
       "<Figure size 550x350 with 4 Axes>"
      ]
     },
     "metadata": {},
     "output_type": "display_data"
    }
   ],
   "source": [
    "import matplotlib.pyplot as plt\n",
    "import numpy as np\n",
    "\n",
    "fig, axs = plt.subplots(ncols=2, nrows=2, figsize=(5.5, 3.5), layout=\"constrained\")\n",
    "\n",
    "for row in range(2):\n",
    "    for col in range(2):\n",
    "        axs[row, col].annotate(f'axs[{row}, {col}]', (0.5, 0.5), \n",
    "                               transform=axs[row, col].transAxes, \n",
    "                               ha='center', va='center', rotation=18,\n",
    "                               color='darkgrey')\n",
    "\n",
    "fig.suptitle('np.subplots()') "
   ]
  },
  {
   "cell_type": "markdown",
   "id": "163ccebb-f0df-4ef6-87c9-294d3506e9aa",
   "metadata": {},
   "source": [
    "### 7. Observe os espaços sublinhados e complete o código.\n",
    "\n",
    "```python\n",
    "import numpy as np\n",
    "import __________ as mpl\n",
    "import __________.______ as plt\n",
    "\n",
    "x = np.________(-2 * np.pi, 2 * np.pi, 100)\n",
    "y = np.____(x)\n",
    "__, __ = plt.subplots()\n",
    "ax.____(_, _)\n",
    "```"
   ]
  },
  {
   "cell_type": "code",
   "execution_count": 13,
   "id": "c80da329-d150-4577-bbe2-7fc94ea02dc2",
   "metadata": {},
   "outputs": [
    {
     "data": {
      "text/plain": [
       "[<matplotlib.lines.Line2D at 0x265a33a22c0>]"
      ]
     },
     "execution_count": 13,
     "metadata": {},
     "output_type": "execute_result"
    },
    {
     "data": {
      "image/png": "[encoded data removed]",
      "text/plain": [
       "<Figure size 640x480 with 1 Axes>"
      ]
     },
     "metadata": {},
     "output_type": "display_data"
    }
   ],
   "source": [
    "import numpy as np\n",
    "import matplotlib as mpl\n",
    "import matplotlib.pyplot as plt\n",
    "\n",
    "x = np.arange(-2 * np.pi, 2 * np.pi, 100)\n",
    "y = np.prod(x)\n",
    "fig, ax = plt.subplots()\n",
    "\n",
    "ax.plot(x, y)\n"
   ]
  },
  {
   "cell_type": "markdown",
   "id": "174a7b9e-3d66-495d-821d-b29d9397e438",
   "metadata": {},
   "source": [
    "### 8. Utilizando pandas, como realizar a leitura de um arquivo CSV em um DataFrame e exibir as primeiras linhas?\n",
    "\n",
    "Obs.: Criei um arquivo csv e o usei para reponder as questões 8,9 e 10 "
   ]
  },
  {
   "cell_type": "code",
   "execution_count": 14,
   "id": "c889fa02-37d7-4b41-80af-c2d6b4db75f7",
   "metadata": {},
   "outputs": [
    {
     "data": {
      "text/html": [
       "<div>\n",
       "<style scoped>\n",
       "    .dataframe tbody tr th:only-of-type {\n",
       "        vertical-align: middle;\n",
       "    }\n",
       "\n",
       "    .dataframe tbody tr th {\n",
       "        vertical-align: top;\n",
       "    }\n",
       "\n",
       "    .dataframe thead th {\n",
       "        text-align: right;\n",
       "    }\n",
       "</style>\n",
       "<table border=\"1\" class=\"dataframe\">\n",
       "  <thead>\n",
       "    <tr style=\"text-align: right;\">\n",
       "      <th></th>\n",
       "      <th>nome</th>\n",
       "      <th>nota_1</th>\n",
       "      <th>nota_2</th>\n",
       "    </tr>\n",
       "  </thead>\n",
       "  <tbody>\n",
       "    <tr>\n",
       "      <th>0</th>\n",
       "      <td>Marcos</td>\n",
       "      <td>6.0</td>\n",
       "      <td>8.0</td>\n",
       "    </tr>\n",
       "    <tr>\n",
       "      <th>1</th>\n",
       "      <td>Roberta</td>\n",
       "      <td>NaN</td>\n",
       "      <td>10.0</td>\n",
       "    </tr>\n",
       "    <tr>\n",
       "      <th>2</th>\n",
       "      <td>Anne</td>\n",
       "      <td>10.0</td>\n",
       "      <td>7.0</td>\n",
       "    </tr>\n",
       "    <tr>\n",
       "      <th>3</th>\n",
       "      <td>Carlos</td>\n",
       "      <td>5.0</td>\n",
       "      <td>6.0</td>\n",
       "    </tr>\n",
       "    <tr>\n",
       "      <th>4</th>\n",
       "      <td>Bruna</td>\n",
       "      <td>8.0</td>\n",
       "      <td>8.0</td>\n",
       "    </tr>\n",
       "  </tbody>\n",
       "</table>\n",
       "</div>"
      ],
      "text/plain": [
       "      nome  nota_1  nota_2\n",
       "0   Marcos     6.0     8.0\n",
       "1  Roberta     NaN    10.0\n",
       "2     Anne    10.0     7.0\n",
       "3   Carlos     5.0     6.0\n",
       "4    Bruna     8.0     8.0"
      ]
     },
     "execution_count": 14,
     "metadata": {},
     "output_type": "execute_result"
    }
   ],
   "source": [
    "import pandas as pd\n",
    "\n",
    "PATH_TO_CSV = \"atv2-dataset-exemplo.csv\" # Supondo que um caminho para um csv tenha sido passado\n",
    "\n",
    "# Função do pandas para ler os dados do arquivo csv, essa função vai retornar um DataFrame (df) com os dados do arquivo csv\n",
    "df = pd.read_csv(PATH_TO_CSV)\n",
    "\n",
    "# Método do DataFrame para apresentar as colunas e as 5 primeiras linhas do arquivo csv\n",
    "df.head()\n"
   ]
  },
  {
   "cell_type": "markdown",
   "id": "bac8f770-d471-4734-b586-8113e0a4df73",
   "metadata": {},
   "source": [
    "### 9. Utilizando pandas, como selecionar uma coluna específica e filtrar linhas em um “DataFrame” com base em uma condição?\n"
   ]
  },
  {
   "cell_type": "code",
   "execution_count": 16,
   "id": "1795862a-44fb-49fc-9c03-73b8e6d5a418",
   "metadata": {},
   "outputs": [
    {
     "data": {
      "text/plain": [
       "0     Marcos\n",
       "1    Roberta\n",
       "2       Anne\n",
       "3     Carlos\n",
       "4      Bruna\n",
       "5       Luan\n",
       "Name: nome, dtype: object"
      ]
     },
     "execution_count": 16,
     "metadata": {},
     "output_type": "execute_result"
    }
   ],
   "source": [
    "# Para selecionar uma coluna, podemos chamar o DataFrame, passando o nome da coluna no index:\n",
    "nomes_alunos = df[\"nome\"]\n",
    "\n",
    "nomes_alunos # vai apresentar a coluna do dataframe"
   ]
  },
  {
   "cell_type": "code",
   "execution_count": 17,
   "id": "6d1b01c2-27cb-4eee-84ef-27e1f12d82fa",
   "metadata": {},
   "outputs": [
    {
     "data": {
      "text/html": [
       "<div>\n",
       "<style scoped>\n",
       "    .dataframe tbody tr th:only-of-type {\n",
       "        vertical-align: middle;\n",
       "    }\n",
       "\n",
       "    .dataframe tbody tr th {\n",
       "        vertical-align: top;\n",
       "    }\n",
       "\n",
       "    .dataframe thead th {\n",
       "        text-align: right;\n",
       "    }\n",
       "</style>\n",
       "<table border=\"1\" class=\"dataframe\">\n",
       "  <thead>\n",
       "    <tr style=\"text-align: right;\">\n",
       "      <th></th>\n",
       "      <th>nome</th>\n",
       "      <th>nota_1</th>\n",
       "      <th>nota_2</th>\n",
       "    </tr>\n",
       "  </thead>\n",
       "  <tbody>\n",
       "    <tr>\n",
       "      <th>2</th>\n",
       "      <td>Anne</td>\n",
       "      <td>10.0</td>\n",
       "      <td>7.0</td>\n",
       "    </tr>\n",
       "    <tr>\n",
       "      <th>4</th>\n",
       "      <td>Bruna</td>\n",
       "      <td>8.0</td>\n",
       "      <td>8.0</td>\n",
       "    </tr>\n",
       "  </tbody>\n",
       "</table>\n",
       "</div>"
      ],
      "text/plain": [
       "    nome  nota_1  nota_2\n",
       "2   Anne    10.0     7.0\n",
       "4  Bruna     8.0     8.0"
      ]
     },
     "execution_count": 17,
     "metadata": {},
     "output_type": "execute_result"
    }
   ],
   "source": [
    "# Filtrando linhas num DataFrame : \n",
    "# Exemplo : Pegando nome dos alunos que tiraram pelo menos 7 na nota_1 \n",
    "\n",
    "nota_1_aprovados = df[ ( df.nota_1 >= 7 ) ] # df.query(' nota_1 >= 7  ') # Outra alternativa para \n",
    "nota_1_aprovados"
   ]
  },
  {
   "cell_type": "markdown",
   "id": "abae130c-f563-4ca4-a645-0830ad559d66",
   "metadata": {},
   "source": [
    "### 10. Utilizando pandas, como lidar com valores ausentes (NaN) em um DataFrame?"
   ]
  },
  {
   "cell_type": "code",
   "execution_count": 18,
   "id": "d8dc3a9f-6bb4-4ca1-b130-db0f78ffe5ae",
   "metadata": {},
   "outputs": [
    {
     "name": "stdout",
     "output_type": "stream",
     "text": [
      "DataFrame copiado após o fillna(0)\n"
     ]
    },
    {
     "data": {
      "text/html": [
       "<div>\n",
       "<style scoped>\n",
       "    .dataframe tbody tr th:only-of-type {\n",
       "        vertical-align: middle;\n",
       "    }\n",
       "\n",
       "    .dataframe tbody tr th {\n",
       "        vertical-align: top;\n",
       "    }\n",
       "\n",
       "    .dataframe thead th {\n",
       "        text-align: right;\n",
       "    }\n",
       "</style>\n",
       "<table border=\"1\" class=\"dataframe\">\n",
       "  <thead>\n",
       "    <tr style=\"text-align: right;\">\n",
       "      <th></th>\n",
       "      <th>nome</th>\n",
       "      <th>nota_1</th>\n",
       "      <th>nota_2</th>\n",
       "    </tr>\n",
       "  </thead>\n",
       "  <tbody>\n",
       "    <tr>\n",
       "      <th>0</th>\n",
       "      <td>Marcos</td>\n",
       "      <td>6.0</td>\n",
       "      <td>8.0</td>\n",
       "    </tr>\n",
       "    <tr>\n",
       "      <th>1</th>\n",
       "      <td>Roberta</td>\n",
       "      <td>0.0</td>\n",
       "      <td>10.0</td>\n",
       "    </tr>\n",
       "    <tr>\n",
       "      <th>2</th>\n",
       "      <td>Anne</td>\n",
       "      <td>10.0</td>\n",
       "      <td>7.0</td>\n",
       "    </tr>\n",
       "    <tr>\n",
       "      <th>3</th>\n",
       "      <td>Carlos</td>\n",
       "      <td>5.0</td>\n",
       "      <td>6.0</td>\n",
       "    </tr>\n",
       "    <tr>\n",
       "      <th>4</th>\n",
       "      <td>Bruna</td>\n",
       "      <td>8.0</td>\n",
       "      <td>8.0</td>\n",
       "    </tr>\n",
       "    <tr>\n",
       "      <th>5</th>\n",
       "      <td>Luan</td>\n",
       "      <td>6.0</td>\n",
       "      <td>0.0</td>\n",
       "    </tr>\n",
       "  </tbody>\n",
       "</table>\n",
       "</div>"
      ],
      "text/plain": [
       "      nome  nota_1  nota_2\n",
       "0   Marcos     6.0     8.0\n",
       "1  Roberta     0.0    10.0\n",
       "2     Anne    10.0     7.0\n",
       "3   Carlos     5.0     6.0\n",
       "4    Bruna     8.0     8.0\n",
       "5     Luan     6.0     0.0"
      ]
     },
     "metadata": {},
     "output_type": "display_data"
    },
    {
     "name": "stdout",
     "output_type": "stream",
     "text": [
      "------------------------------\n",
      "DataFrame após o dropna(), Roberta e Luan foram removidos da tabela\n"
     ]
    },
    {
     "data": {
      "text/html": [
       "<div>\n",
       "<style scoped>\n",
       "    .dataframe tbody tr th:only-of-type {\n",
       "        vertical-align: middle;\n",
       "    }\n",
       "\n",
       "    .dataframe tbody tr th {\n",
       "        vertical-align: top;\n",
       "    }\n",
       "\n",
       "    .dataframe thead th {\n",
       "        text-align: right;\n",
       "    }\n",
       "</style>\n",
       "<table border=\"1\" class=\"dataframe\">\n",
       "  <thead>\n",
       "    <tr style=\"text-align: right;\">\n",
       "      <th></th>\n",
       "      <th>nome</th>\n",
       "      <th>nota_1</th>\n",
       "      <th>nota_2</th>\n",
       "    </tr>\n",
       "  </thead>\n",
       "  <tbody>\n",
       "    <tr>\n",
       "      <th>0</th>\n",
       "      <td>Marcos</td>\n",
       "      <td>6.0</td>\n",
       "      <td>8.0</td>\n",
       "    </tr>\n",
       "    <tr>\n",
       "      <th>2</th>\n",
       "      <td>Anne</td>\n",
       "      <td>10.0</td>\n",
       "      <td>7.0</td>\n",
       "    </tr>\n",
       "    <tr>\n",
       "      <th>3</th>\n",
       "      <td>Carlos</td>\n",
       "      <td>5.0</td>\n",
       "      <td>6.0</td>\n",
       "    </tr>\n",
       "    <tr>\n",
       "      <th>4</th>\n",
       "      <td>Bruna</td>\n",
       "      <td>8.0</td>\n",
       "      <td>8.0</td>\n",
       "    </tr>\n",
       "  </tbody>\n",
       "</table>\n",
       "</div>"
      ],
      "text/plain": [
       "     nome  nota_1  nota_2\n",
       "0  Marcos     6.0     8.0\n",
       "2    Anne    10.0     7.0\n",
       "3  Carlos     5.0     6.0\n",
       "4   Bruna     8.0     8.0"
      ]
     },
     "execution_count": 18,
     "metadata": {},
     "output_type": "execute_result"
    }
   ],
   "source": [
    "# O pandas dispõe de funções para remover e mudar valores NaN, sendo elas .dropna() e .fillna(), respectivamente.\n",
    "# Considereando o caso de querer atualizar os dados ausentes para 0 pode-se fazer assim :\n",
    "\n",
    "df_copy = df.copy() # Copiei os dados em um novo DataFrame para mostrar a diferença entre as funções\n",
    "df_copy.apply( lambda x: x.fillna(0, inplace=True) ) \n",
    "\n",
    "print(\"DataFrame copiado após o fillna(0)\") \n",
    "display(df_copy)\n",
    "\n",
    "# Considereando o caso de querer remover os dados pode-se fazer assim : \n",
    "\n",
    "print(\"---\" * 10)\n",
    "print(\"DataFrame após o dropna(), Roberta e Luan foram removidos da tabela\") \n",
    "df.dropna()\n"
   ]
  }
 ],
 "metadata": {
  "kernelspec": {
   "display_name": "Python 3 (ipykernel)",
   "language": "python",
   "name": "python3"
  },
  "language_info": {
   "codemirror_mode": {
    "name": "ipython",
    "version": 3
   },
   "file_extension": ".py",
   "mimetype": "text/x-python",
   "name": "python",
   "nbconvert_exporter": "python",
   "pygments_lexer": "ipython3",
   "version": "3.10.5"
  }
 },
 "nbformat": 4,
 "nbformat_minor": 5
}
